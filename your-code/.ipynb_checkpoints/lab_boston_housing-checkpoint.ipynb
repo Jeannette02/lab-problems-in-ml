{
 "cells": [
  {
   "cell_type": "markdown",
   "metadata": {},
   "source": [
    "# Understanding Over & Underfitting\n",
    "## Predicting Boston Housing Prices"
   ]
  },
  {
   "cell_type": "markdown",
   "metadata": {},
   "source": [
    "## Getting Started\n",
    "In this project, you will use the Boston Housing Prices dataset to build several models to predict the prices of homes with particular qualities from the suburbs of Boston, MA.\n",
    "We will build models with several different parameters, which will change the goodness of fit for each. "
   ]
  },
  {
   "cell_type": "markdown",
   "metadata": {},
   "source": [
    "---\n",
    "## Data Exploration\n",
    "Since we want to predict the value of houses, the **target variable**, `'MEDV'`, will be the variable we seek to predict."
   ]
  },
  {
   "cell_type": "markdown",
   "metadata": {},
   "source": [
    "### Import and explore the data. Clean the data for outliers and missing values. "
   ]
  },
  {
   "cell_type": "code",
   "execution_count": 1,
   "metadata": {},
   "outputs": [],
   "source": [
    "import pandas as pd\n",
    "import numpy as np\n",
    "import matplotlib.pyplot as plt\n",
    "import seaborn as sns"
   ]
  },
  {
   "cell_type": "code",
   "execution_count": 2,
   "metadata": {},
   "outputs": [
    {
     "data": {
      "text/html": [
       "<div>\n",
       "<style scoped>\n",
       "    .dataframe tbody tr th:only-of-type {\n",
       "        vertical-align: middle;\n",
       "    }\n",
       "\n",
       "    .dataframe tbody tr th {\n",
       "        vertical-align: top;\n",
       "    }\n",
       "\n",
       "    .dataframe thead th {\n",
       "        text-align: right;\n",
       "    }\n",
       "</style>\n",
       "<table border=\"1\" class=\"dataframe\">\n",
       "  <thead>\n",
       "    <tr style=\"text-align: right;\">\n",
       "      <th></th>\n",
       "      <th>crim</th>\n",
       "      <th>zn</th>\n",
       "      <th>indus</th>\n",
       "      <th>chas</th>\n",
       "      <th>nox</th>\n",
       "      <th>rm</th>\n",
       "      <th>age</th>\n",
       "      <th>dis</th>\n",
       "      <th>rad</th>\n",
       "      <th>tax</th>\n",
       "      <th>ptratio</th>\n",
       "      <th>black</th>\n",
       "      <th>lstat</th>\n",
       "      <th>medv</th>\n",
       "    </tr>\n",
       "  </thead>\n",
       "  <tbody>\n",
       "    <tr>\n",
       "      <th>0</th>\n",
       "      <td>0.15876</td>\n",
       "      <td>0.0</td>\n",
       "      <td>10.81</td>\n",
       "      <td>0.0</td>\n",
       "      <td>0.413</td>\n",
       "      <td>5.961</td>\n",
       "      <td>17.5</td>\n",
       "      <td>5.2873</td>\n",
       "      <td>4.0</td>\n",
       "      <td>305.0</td>\n",
       "      <td>19.2</td>\n",
       "      <td>376.94</td>\n",
       "      <td>9.88</td>\n",
       "      <td>21.7</td>\n",
       "    </tr>\n",
       "    <tr>\n",
       "      <th>1</th>\n",
       "      <td>0.10328</td>\n",
       "      <td>25.0</td>\n",
       "      <td>5.13</td>\n",
       "      <td>0.0</td>\n",
       "      <td>0.453</td>\n",
       "      <td>5.927</td>\n",
       "      <td>47.2</td>\n",
       "      <td>6.9320</td>\n",
       "      <td>8.0</td>\n",
       "      <td>284.0</td>\n",
       "      <td>19.7</td>\n",
       "      <td>396.90</td>\n",
       "      <td>9.22</td>\n",
       "      <td>19.6</td>\n",
       "    </tr>\n",
       "    <tr>\n",
       "      <th>2</th>\n",
       "      <td>0.34940</td>\n",
       "      <td>0.0</td>\n",
       "      <td>9.90</td>\n",
       "      <td>0.0</td>\n",
       "      <td>0.544</td>\n",
       "      <td>5.972</td>\n",
       "      <td>76.7</td>\n",
       "      <td>3.1025</td>\n",
       "      <td>4.0</td>\n",
       "      <td>304.0</td>\n",
       "      <td>18.4</td>\n",
       "      <td>396.24</td>\n",
       "      <td>9.97</td>\n",
       "      <td>20.3</td>\n",
       "    </tr>\n",
       "    <tr>\n",
       "      <th>3</th>\n",
       "      <td>2.73397</td>\n",
       "      <td>0.0</td>\n",
       "      <td>19.58</td>\n",
       "      <td>0.0</td>\n",
       "      <td>0.871</td>\n",
       "      <td>5.597</td>\n",
       "      <td>94.9</td>\n",
       "      <td>1.5257</td>\n",
       "      <td>5.0</td>\n",
       "      <td>403.0</td>\n",
       "      <td>14.7</td>\n",
       "      <td>351.85</td>\n",
       "      <td>21.45</td>\n",
       "      <td>15.4</td>\n",
       "    </tr>\n",
       "    <tr>\n",
       "      <th>4</th>\n",
       "      <td>0.04337</td>\n",
       "      <td>21.0</td>\n",
       "      <td>5.64</td>\n",
       "      <td>0.0</td>\n",
       "      <td>0.439</td>\n",
       "      <td>6.115</td>\n",
       "      <td>63.0</td>\n",
       "      <td>6.8147</td>\n",
       "      <td>4.0</td>\n",
       "      <td>243.0</td>\n",
       "      <td>16.8</td>\n",
       "      <td>393.97</td>\n",
       "      <td>9.43</td>\n",
       "      <td>20.5</td>\n",
       "    </tr>\n",
       "  </tbody>\n",
       "</table>\n",
       "</div>"
      ],
      "text/plain": [
       "      crim    zn  indus  chas    nox     rm   age     dis  rad    tax  \\\n",
       "0  0.15876   0.0  10.81   0.0  0.413  5.961  17.5  5.2873  4.0  305.0   \n",
       "1  0.10328  25.0   5.13   0.0  0.453  5.927  47.2  6.9320  8.0  284.0   \n",
       "2  0.34940   0.0   9.90   0.0  0.544  5.972  76.7  3.1025  4.0  304.0   \n",
       "3  2.73397   0.0  19.58   0.0  0.871  5.597  94.9  1.5257  5.0  403.0   \n",
       "4  0.04337  21.0   5.64   0.0  0.439  6.115  63.0  6.8147  4.0  243.0   \n",
       "\n",
       "   ptratio   black  lstat  medv  \n",
       "0     19.2  376.94   9.88  21.7  \n",
       "1     19.7  396.90   9.22  19.6  \n",
       "2     18.4  396.24   9.97  20.3  \n",
       "3     14.7  351.85  21.45  15.4  \n",
       "4     16.8  393.97   9.43  20.5  "
      ]
     },
     "execution_count": 2,
     "metadata": {},
     "output_type": "execute_result"
    }
   ],
   "source": [
    "data = pd.read_csv(r'..\\data\\boston_data.csv')\n",
    "data.head()"
   ]
  },
  {
   "cell_type": "code",
   "execution_count": 3,
   "metadata": {},
   "outputs": [
    {
     "data": {
      "text/plain": [
       "(404, 14)"
      ]
     },
     "execution_count": 3,
     "metadata": {},
     "output_type": "execute_result"
    }
   ],
   "source": [
    "data.shape"
   ]
  },
  {
   "cell_type": "code",
   "execution_count": 4,
   "metadata": {},
   "outputs": [
    {
     "data": {
      "text/plain": [
       "crim       float64\n",
       "zn         float64\n",
       "indus      float64\n",
       "chas       float64\n",
       "nox        float64\n",
       "rm         float64\n",
       "age        float64\n",
       "dis        float64\n",
       "rad        float64\n",
       "tax        float64\n",
       "ptratio    float64\n",
       "black      float64\n",
       "lstat      float64\n",
       "medv       float64\n",
       "dtype: object"
      ]
     },
     "execution_count": 4,
     "metadata": {},
     "output_type": "execute_result"
    }
   ],
   "source": [
    "data.dtypes"
   ]
  },
  {
   "cell_type": "code",
   "execution_count": 5,
   "metadata": {},
   "outputs": [
    {
     "data": {
      "text/plain": [
       "crim       0\n",
       "zn         0\n",
       "indus      0\n",
       "chas       0\n",
       "nox        0\n",
       "rm         0\n",
       "age        0\n",
       "dis        0\n",
       "rad        0\n",
       "tax        0\n",
       "ptratio    0\n",
       "black      0\n",
       "lstat      0\n",
       "medv       0\n",
       "dtype: int64"
      ]
     },
     "execution_count": 5,
     "metadata": {},
     "output_type": "execute_result"
    }
   ],
   "source": [
    "data.isnull().sum()"
   ]
  },
  {
   "cell_type": "code",
   "execution_count": 6,
   "metadata": {},
   "outputs": [
    {
     "data": {
      "text/html": [
       "<div>\n",
       "<style scoped>\n",
       "    .dataframe tbody tr th:only-of-type {\n",
       "        vertical-align: middle;\n",
       "    }\n",
       "\n",
       "    .dataframe tbody tr th {\n",
       "        vertical-align: top;\n",
       "    }\n",
       "\n",
       "    .dataframe thead th {\n",
       "        text-align: right;\n",
       "    }\n",
       "</style>\n",
       "<table border=\"1\" class=\"dataframe\">\n",
       "  <thead>\n",
       "    <tr style=\"text-align: right;\">\n",
       "      <th></th>\n",
       "      <th>crim</th>\n",
       "      <th>zn</th>\n",
       "      <th>indus</th>\n",
       "      <th>chas</th>\n",
       "      <th>nox</th>\n",
       "      <th>rm</th>\n",
       "      <th>age</th>\n",
       "      <th>dis</th>\n",
       "      <th>rad</th>\n",
       "      <th>tax</th>\n",
       "      <th>ptratio</th>\n",
       "      <th>black</th>\n",
       "      <th>lstat</th>\n",
       "      <th>medv</th>\n",
       "    </tr>\n",
       "  </thead>\n",
       "  <tbody>\n",
       "    <tr>\n",
       "      <th>count</th>\n",
       "      <td>404.000000</td>\n",
       "      <td>404.000000</td>\n",
       "      <td>404.000000</td>\n",
       "      <td>404.000000</td>\n",
       "      <td>404.000000</td>\n",
       "      <td>404.00000</td>\n",
       "      <td>404.000000</td>\n",
       "      <td>404.000000</td>\n",
       "      <td>404.000000</td>\n",
       "      <td>404.000000</td>\n",
       "      <td>404.000000</td>\n",
       "      <td>404.000000</td>\n",
       "      <td>404.000000</td>\n",
       "      <td>404.000000</td>\n",
       "    </tr>\n",
       "    <tr>\n",
       "      <th>mean</th>\n",
       "      <td>3.730912</td>\n",
       "      <td>10.509901</td>\n",
       "      <td>11.189901</td>\n",
       "      <td>0.069307</td>\n",
       "      <td>0.556710</td>\n",
       "      <td>6.30145</td>\n",
       "      <td>68.601733</td>\n",
       "      <td>3.799666</td>\n",
       "      <td>9.836634</td>\n",
       "      <td>411.688119</td>\n",
       "      <td>18.444554</td>\n",
       "      <td>355.068243</td>\n",
       "      <td>12.598936</td>\n",
       "      <td>22.312376</td>\n",
       "    </tr>\n",
       "    <tr>\n",
       "      <th>std</th>\n",
       "      <td>8.943922</td>\n",
       "      <td>22.053733</td>\n",
       "      <td>6.814909</td>\n",
       "      <td>0.254290</td>\n",
       "      <td>0.117321</td>\n",
       "      <td>0.67583</td>\n",
       "      <td>28.066143</td>\n",
       "      <td>2.109916</td>\n",
       "      <td>8.834741</td>\n",
       "      <td>171.073553</td>\n",
       "      <td>2.150295</td>\n",
       "      <td>94.489572</td>\n",
       "      <td>6.925173</td>\n",
       "      <td>8.837019</td>\n",
       "    </tr>\n",
       "    <tr>\n",
       "      <th>min</th>\n",
       "      <td>0.006320</td>\n",
       "      <td>0.000000</td>\n",
       "      <td>0.460000</td>\n",
       "      <td>0.000000</td>\n",
       "      <td>0.392000</td>\n",
       "      <td>3.56100</td>\n",
       "      <td>2.900000</td>\n",
       "      <td>1.169100</td>\n",
       "      <td>1.000000</td>\n",
       "      <td>187.000000</td>\n",
       "      <td>12.600000</td>\n",
       "      <td>0.320000</td>\n",
       "      <td>1.730000</td>\n",
       "      <td>5.000000</td>\n",
       "    </tr>\n",
       "    <tr>\n",
       "      <th>25%</th>\n",
       "      <td>0.082382</td>\n",
       "      <td>0.000000</td>\n",
       "      <td>5.190000</td>\n",
       "      <td>0.000000</td>\n",
       "      <td>0.453000</td>\n",
       "      <td>5.90275</td>\n",
       "      <td>45.800000</td>\n",
       "      <td>2.087875</td>\n",
       "      <td>4.000000</td>\n",
       "      <td>281.000000</td>\n",
       "      <td>17.375000</td>\n",
       "      <td>374.710000</td>\n",
       "      <td>7.135000</td>\n",
       "      <td>17.100000</td>\n",
       "    </tr>\n",
       "    <tr>\n",
       "      <th>50%</th>\n",
       "      <td>0.253715</td>\n",
       "      <td>0.000000</td>\n",
       "      <td>9.795000</td>\n",
       "      <td>0.000000</td>\n",
       "      <td>0.538000</td>\n",
       "      <td>6.23050</td>\n",
       "      <td>76.600000</td>\n",
       "      <td>3.207450</td>\n",
       "      <td>5.000000</td>\n",
       "      <td>330.000000</td>\n",
       "      <td>19.000000</td>\n",
       "      <td>391.065000</td>\n",
       "      <td>11.265000</td>\n",
       "      <td>21.400000</td>\n",
       "    </tr>\n",
       "    <tr>\n",
       "      <th>75%</th>\n",
       "      <td>4.053158</td>\n",
       "      <td>12.500000</td>\n",
       "      <td>18.100000</td>\n",
       "      <td>0.000000</td>\n",
       "      <td>0.631000</td>\n",
       "      <td>6.62925</td>\n",
       "      <td>94.150000</td>\n",
       "      <td>5.222125</td>\n",
       "      <td>24.000000</td>\n",
       "      <td>666.000000</td>\n",
       "      <td>20.200000</td>\n",
       "      <td>396.007500</td>\n",
       "      <td>16.910000</td>\n",
       "      <td>25.000000</td>\n",
       "    </tr>\n",
       "    <tr>\n",
       "      <th>max</th>\n",
       "      <td>88.976200</td>\n",
       "      <td>95.000000</td>\n",
       "      <td>27.740000</td>\n",
       "      <td>1.000000</td>\n",
       "      <td>0.871000</td>\n",
       "      <td>8.78000</td>\n",
       "      <td>100.000000</td>\n",
       "      <td>12.126500</td>\n",
       "      <td>24.000000</td>\n",
       "      <td>711.000000</td>\n",
       "      <td>22.000000</td>\n",
       "      <td>396.900000</td>\n",
       "      <td>34.370000</td>\n",
       "      <td>50.000000</td>\n",
       "    </tr>\n",
       "  </tbody>\n",
       "</table>\n",
       "</div>"
      ],
      "text/plain": [
       "             crim          zn       indus        chas         nox         rm  \\\n",
       "count  404.000000  404.000000  404.000000  404.000000  404.000000  404.00000   \n",
       "mean     3.730912   10.509901   11.189901    0.069307    0.556710    6.30145   \n",
       "std      8.943922   22.053733    6.814909    0.254290    0.117321    0.67583   \n",
       "min      0.006320    0.000000    0.460000    0.000000    0.392000    3.56100   \n",
       "25%      0.082382    0.000000    5.190000    0.000000    0.453000    5.90275   \n",
       "50%      0.253715    0.000000    9.795000    0.000000    0.538000    6.23050   \n",
       "75%      4.053158   12.500000   18.100000    0.000000    0.631000    6.62925   \n",
       "max     88.976200   95.000000   27.740000    1.000000    0.871000    8.78000   \n",
       "\n",
       "              age         dis         rad         tax     ptratio       black  \\\n",
       "count  404.000000  404.000000  404.000000  404.000000  404.000000  404.000000   \n",
       "mean    68.601733    3.799666    9.836634  411.688119   18.444554  355.068243   \n",
       "std     28.066143    2.109916    8.834741  171.073553    2.150295   94.489572   \n",
       "min      2.900000    1.169100    1.000000  187.000000   12.600000    0.320000   \n",
       "25%     45.800000    2.087875    4.000000  281.000000   17.375000  374.710000   \n",
       "50%     76.600000    3.207450    5.000000  330.000000   19.000000  391.065000   \n",
       "75%     94.150000    5.222125   24.000000  666.000000   20.200000  396.007500   \n",
       "max    100.000000   12.126500   24.000000  711.000000   22.000000  396.900000   \n",
       "\n",
       "            lstat        medv  \n",
       "count  404.000000  404.000000  \n",
       "mean    12.598936   22.312376  \n",
       "std      6.925173    8.837019  \n",
       "min      1.730000    5.000000  \n",
       "25%      7.135000   17.100000  \n",
       "50%     11.265000   21.400000  \n",
       "75%     16.910000   25.000000  \n",
       "max     34.370000   50.000000  "
      ]
     },
     "execution_count": 6,
     "metadata": {},
     "output_type": "execute_result"
    }
   ],
   "source": [
    "data.describe()"
   ]
  },
  {
   "cell_type": "code",
   "execution_count": 7,
   "metadata": {},
   "outputs": [
    {
     "data": {
      "image/png": "[encoded data removed]",
      "text/plain": [
       "<Figure size 1440x720 with 14 Axes>"
      ]
     },
     "metadata": {
      "needs_background": "light"
     },
     "output_type": "display_data"
    }
   ],
   "source": [
    "figure, axis = plt.subplots(2, 7, figsize=[20,10])\n",
    "\n",
    "axis[0, 0].boxplot(data['crim'])\n",
    "axis[0, 0].set_title(\"crim\")\n",
    "\n",
    "axis[0, 1].boxplot(data['zn'])\n",
    "axis[0, 1].set_title(\"zn\")\n",
    "\n",
    "axis[0, 2].boxplot(data['indus'])\n",
    "axis[0, 2].set_title(\"indus\")\n",
    "\n",
    "axis[0, 3].boxplot(data['chas'])\n",
    "axis[0, 3].set_title(\"chas\")\n",
    "\n",
    "axis[0, 4].boxplot(data['nox'])\n",
    "axis[0, 4].set_title(\"nox\")\n",
    "\n",
    "axis[0, 5].boxplot(data['rm'])\n",
    "axis[0, 5].set_title(\"rm\")\n",
    "\n",
    "axis[0, 6].boxplot(data['age'])\n",
    "axis[0, 6].set_title(\"age\")\n",
    "\n",
    "axis[1, 0].boxplot(data['dis'])\n",
    "axis[1, 0].set_title(\"dis\")\n",
    "\n",
    "axis[1, 1].boxplot(data['rad'])\n",
    "axis[1, 1].set_title(\"rad\")\n",
    "\n",
    "axis[1, 2].boxplot(data['tax'])\n",
    "axis[1, 2].set_title(\"tax\")\n",
    "\n",
    "axis[1, 3].boxplot(data['ptratio'])\n",
    "axis[1, 3].set_title(\"ptratio\")\n",
    "\n",
    "axis[1, 4].boxplot(data['black'])\n",
    "axis[1, 4].set_title(\"black\")\n",
    "\n",
    "axis[1, 5].boxplot(data['lstat'])\n",
    "axis[1, 5].set_title(\"lstat\")\n",
    "\n",
    "axis[1, 6].boxplot(data['medv'])\n",
    "axis[1, 6].set_title(\"medv\")\n",
    "\n",
    "plt.show()"
   ]
  },
  {
   "cell_type": "code",
   "execution_count": 8,
   "metadata": {},
   "outputs": [
    {
     "data": {
      "text/plain": [
       "380    88.9762\n",
       "285    73.5341\n",
       "114    67.9208\n",
       "400    51.1358\n",
       "116    41.5292\n",
       "34     38.3518\n",
       "273    37.6619\n",
       "10     25.9406\n",
       "377    25.0461\n",
       "143    24.3938\n",
       "Name: crim, dtype: float64"
      ]
     },
     "execution_count": 8,
     "metadata": {},
     "output_type": "execute_result"
    }
   ],
   "source": [
    "# checking outliers of 'crim' in more detail\n",
    "data['crim'].sort_values(ascending=False).head(10)"
   ]
  },
  {
   "cell_type": "code",
   "execution_count": 9,
   "metadata": {},
   "outputs": [
    {
     "data": {
      "text/plain": [
       "111    12.1265\n",
       "29     10.7103\n",
       "161    10.7103\n",
       "252    10.5857\n",
       "251    10.5857\n",
       "359     9.2229\n",
       "28      9.2203\n",
       "402     9.1876\n",
       "103     8.9067\n",
       "319     8.9067\n",
       "Name: dis, dtype: float64"
      ]
     },
     "execution_count": 9,
     "metadata": {},
     "output_type": "execute_result"
    }
   ],
   "source": [
    "# checking outliers of 'dis' in more detail\n",
    "data['dis'].sort_values(ascending=False).head(10)"
   ]
  },
  {
   "cell_type": "code",
   "execution_count": 10,
   "metadata": {},
   "outputs": [
    {
     "data": {
      "text/plain": [
       "112    12.6\n",
       "212    12.6\n",
       "192    12.6\n",
       "85     13.0\n",
       "88     13.0\n",
       "48     13.0\n",
       "52     13.0\n",
       "322    13.0\n",
       "210    13.0\n",
       "194    13.0\n",
       "Name: ptratio, dtype: float64"
      ]
     },
     "execution_count": 10,
     "metadata": {},
     "output_type": "execute_result"
    }
   ],
   "source": [
    "# checking outliers of 'ptratio' in more detail\n",
    "data['ptratio'].sort_values(ascending=True).head(10)"
   ]
  },
  {
   "cell_type": "code",
   "execution_count": 11,
   "metadata": {},
   "outputs": [
    {
     "data": {
      "text/plain": [
       "258    34.37\n",
       "170    34.02\n",
       "261    30.81\n",
       "384    30.81\n",
       "167    30.63\n",
       "379    30.62\n",
       "34     30.59\n",
       "336    29.97\n",
       "363    29.93\n",
       "221    29.68\n",
       "Name: lstat, dtype: float64"
      ]
     },
     "execution_count": 11,
     "metadata": {},
     "output_type": "execute_result"
    }
   ],
   "source": [
    "# checking outliers of 'lstat' in more detail\n",
    "data['lstat'].sort_values(ascending=False).head(10)"
   ]
  },
  {
   "cell_type": "code",
   "execution_count": 12,
   "metadata": {},
   "outputs": [],
   "source": [
    "# drop top 3 outliers from 'crim'\n",
    "data = data.drop([380,285,114], axis=0)\n",
    "\n",
    "# in this case only the top 3 outliers are dropped, as they are the furthest away from the mean as well as they cannot be grouped together unlike the other outliers\n",
    "# for the other columns the outliers are either to many and/or could be group or they are to close to the rest of the data, therefore they are not dropped"
   ]
  },
  {
   "cell_type": "markdown",
   "metadata": {},
   "source": [
    "### Next, we want to explore the data. Pick several varibables you think will be most correlated with the prices of homes in Boston, and create plots that show the data dispersion as well as the regression line of best fit."
   ]
  },
  {
   "cell_type": "code",
   "execution_count": 13,
   "metadata": {},
   "outputs": [
    {
     "data": {
      "image/png": "[encoded data removed]",
      "text/plain": [
       "<Figure size 432x288 with 1 Axes>"
      ]
     },
     "metadata": {
      "needs_background": "light"
     },
     "output_type": "display_data"
    }
   ],
   "source": [
    "# per capita crime rate\n",
    "plt.scatter(data['medv'],data['crim'])\n",
    "a, b = np.polyfit(data['medv'],data['crim'],1)\n",
    "line = a*data['medv']+b\n",
    "plt.plot(data['medv'], line, 'r')\n",
    "plt.show()"
   ]
  },
  {
   "cell_type": "code",
   "execution_count": 14,
   "metadata": {},
   "outputs": [
    {
     "data": {
      "image/png": "[encoded data removed]",
      "text/plain": [
       "<Figure size 432x288 with 1 Axes>"
      ]
     },
     "metadata": {
      "needs_background": "light"
     },
     "output_type": "display_data"
    }
   ],
   "source": [
    "# zn (proportion of residential land zoned for lots over 25,000 sq.ft.)\n",
    "plt.scatter(data['medv'],data['zn'])\n",
    "a, b = np.polyfit(data['medv'],data['zn'],1)\n",
    "line = a*data['medv']+b\n",
    "plt.plot(data['medv'], line, 'r')\n",
    "plt.show()"
   ]
  },
  {
   "cell_type": "code",
   "execution_count": 15,
   "metadata": {},
   "outputs": [
    {
     "data": {
      "image/png": "[encoded data removed]",
      "text/plain": [
       "<Figure size 432x288 with 1 Axes>"
      ]
     },
     "metadata": {
      "needs_background": "light"
     },
     "output_type": "display_data"
    }
   ],
   "source": [
    "# rm (average number of rooms per dwelling)\n",
    "plt.scatter(data['medv'],data['rm'])\n",
    "a, b = np.polyfit(data['medv'],data['rm'],1)\n",
    "line = a*data['medv']+b\n",
    "plt.plot(data['medv'], line, 'r')\n",
    "plt.show()"
   ]
  },
  {
   "cell_type": "code",
   "execution_count": 16,
   "metadata": {},
   "outputs": [
    {
     "data": {
      "image/png": "[encoded data removed]",
      "text/plain": [
       "<Figure size 432x288 with 1 Axes>"
      ]
     },
     "metadata": {
      "needs_background": "light"
     },
     "output_type": "display_data"
    }
   ],
   "source": [
    "# dis (weighted distances to ﬁve Boston employment centers)\n",
    "plt.scatter(data['medv'],data['dis'])\n",
    "a, b = np.polyfit(data['medv'],data['dis'],1)\n",
    "line = a*data['medv']+b\n",
    "plt.plot(data['medv'], line, 'r')\n",
    "plt.show()"
   ]
  },
  {
   "cell_type": "code",
   "execution_count": 17,
   "metadata": {},
   "outputs": [
    {
     "data": {
      "image/png": "[encoded data removed]",
      "text/plain": [
       "<Figure size 432x288 with 1 Axes>"
      ]
     },
     "metadata": {
      "needs_background": "light"
     },
     "output_type": "display_data"
    }
   ],
   "source": [
    "# tax (full-value property-tax rate per $10,000)\n",
    "plt.scatter(data['medv'],data['tax'])\n",
    "a, b = np.polyfit(data['medv'],data['tax'],1)\n",
    "line = a*data['medv']+b\n",
    "plt.plot(data['medv'], line, 'r')\n",
    "plt.show()"
   ]
  },
  {
   "cell_type": "markdown",
   "metadata": {},
   "source": [
    "### What do these plots tell you about the relationships between these variables and the prices of homes in Boston? Are these the relationships you expected to see in these variables?"
   ]
  },
  {
   "cell_type": "code",
   "execution_count": null,
   "metadata": {},
   "outputs": [],
   "source": [
    "# Your response here\n",
    "'''\n",
    "For 'crime' and 'rm' there is a linear correlation with 'medv' and for 'dis' there might be a slight exponential correlation.\n",
    "For the rest of the seems to be no correlation with 'medv'.\n",
    "'''"
   ]
  },
  {
   "cell_type": "markdown",
   "metadata": {},
   "source": [
    "### Make a heatmap of the remaining variables. Are there any variables that you did not consider that have very high correlations? What are they?"
   ]
  },
  {
   "cell_type": "code",
   "execution_count": 28,
   "metadata": {},
   "outputs": [
    {
     "data": {
      "text/html": [
       "<div>\n",
       "<style scoped>\n",
       "    .dataframe tbody tr th:only-of-type {\n",
       "        vertical-align: middle;\n",
       "    }\n",
       "\n",
       "    .dataframe tbody tr th {\n",
       "        vertical-align: top;\n",
       "    }\n",
       "\n",
       "    .dataframe thead th {\n",
       "        text-align: right;\n",
       "    }\n",
       "</style>\n",
       "<table border=\"1\" class=\"dataframe\">\n",
       "  <thead>\n",
       "    <tr style=\"text-align: right;\">\n",
       "      <th></th>\n",
       "      <th>crim</th>\n",
       "      <th>zn</th>\n",
       "      <th>indus</th>\n",
       "      <th>chas</th>\n",
       "      <th>nox</th>\n",
       "      <th>rm</th>\n",
       "      <th>age</th>\n",
       "      <th>dis</th>\n",
       "      <th>rad</th>\n",
       "      <th>tax</th>\n",
       "      <th>ptratio</th>\n",
       "      <th>black</th>\n",
       "      <th>lstat</th>\n",
       "      <th>medv</th>\n",
       "    </tr>\n",
       "  </thead>\n",
       "  <tbody>\n",
       "    <tr>\n",
       "      <th>crim</th>\n",
       "      <td>1.000000</td>\n",
       "      <td>-0.236264</td>\n",
       "      <td>0.489672</td>\n",
       "      <td>-0.062732</td>\n",
       "      <td>0.488114</td>\n",
       "      <td>-0.242034</td>\n",
       "      <td>0.411706</td>\n",
       "      <td>-0.445231</td>\n",
       "      <td>0.726782</td>\n",
       "      <td>0.681424</td>\n",
       "      <td>0.345999</td>\n",
       "      <td>-0.469271</td>\n",
       "      <td>0.520994</td>\n",
       "      <td>-0.437607</td>\n",
       "    </tr>\n",
       "    <tr>\n",
       "      <th>zn</th>\n",
       "      <td>-0.236264</td>\n",
       "      <td>1.000000</td>\n",
       "      <td>-0.531146</td>\n",
       "      <td>-0.038308</td>\n",
       "      <td>-0.495850</td>\n",
       "      <td>0.302918</td>\n",
       "      <td>-0.545576</td>\n",
       "      <td>0.658599</td>\n",
       "      <td>-0.308835</td>\n",
       "      <td>-0.286646</td>\n",
       "      <td>-0.369636</td>\n",
       "      <td>0.176030</td>\n",
       "      <td>-0.410537</td>\n",
       "      <td>0.353695</td>\n",
       "    </tr>\n",
       "    <tr>\n",
       "      <th>indus</th>\n",
       "      <td>0.489672</td>\n",
       "      <td>-0.531146</td>\n",
       "      <td>1.000000</td>\n",
       "      <td>0.062258</td>\n",
       "      <td>0.758994</td>\n",
       "      <td>-0.354757</td>\n",
       "      <td>0.627193</td>\n",
       "      <td>-0.700176</td>\n",
       "      <td>0.612458</td>\n",
       "      <td>0.720276</td>\n",
       "      <td>0.352582</td>\n",
       "      <td>-0.378702</td>\n",
       "      <td>0.605267</td>\n",
       "      <td>-0.496320</td>\n",
       "    </tr>\n",
       "    <tr>\n",
       "      <th>chas</th>\n",
       "      <td>-0.062732</td>\n",
       "      <td>-0.038308</td>\n",
       "      <td>0.062258</td>\n",
       "      <td>1.000000</td>\n",
       "      <td>0.103282</td>\n",
       "      <td>0.090104</td>\n",
       "      <td>0.087316</td>\n",
       "      <td>-0.105790</td>\n",
       "      <td>-0.019478</td>\n",
       "      <td>-0.041022</td>\n",
       "      <td>-0.120501</td>\n",
       "      <td>0.041347</td>\n",
       "      <td>-0.039004</td>\n",
       "      <td>0.139545</td>\n",
       "    </tr>\n",
       "    <tr>\n",
       "      <th>nox</th>\n",
       "      <td>0.488114</td>\n",
       "      <td>-0.495850</td>\n",
       "      <td>0.758994</td>\n",
       "      <td>0.103282</td>\n",
       "      <td>1.000000</td>\n",
       "      <td>-0.266345</td>\n",
       "      <td>0.726670</td>\n",
       "      <td>-0.760469</td>\n",
       "      <td>0.607816</td>\n",
       "      <td>0.657026</td>\n",
       "      <td>0.161315</td>\n",
       "      <td>-0.394676</td>\n",
       "      <td>0.583993</td>\n",
       "      <td>-0.432426</td>\n",
       "    </tr>\n",
       "    <tr>\n",
       "      <th>rm</th>\n",
       "      <td>-0.242034</td>\n",
       "      <td>0.302918</td>\n",
       "      <td>-0.354757</td>\n",
       "      <td>0.090104</td>\n",
       "      <td>-0.266345</td>\n",
       "      <td>1.000000</td>\n",
       "      <td>-0.210035</td>\n",
       "      <td>0.178933</td>\n",
       "      <td>-0.173588</td>\n",
       "      <td>-0.242742</td>\n",
       "      <td>-0.324077</td>\n",
       "      <td>0.125896</td>\n",
       "      <td>-0.579183</td>\n",
       "      <td>0.689118</td>\n",
       "    </tr>\n",
       "    <tr>\n",
       "      <th>age</th>\n",
       "      <td>0.411706</td>\n",
       "      <td>-0.545576</td>\n",
       "      <td>0.627193</td>\n",
       "      <td>0.087316</td>\n",
       "      <td>0.726670</td>\n",
       "      <td>-0.210035</td>\n",
       "      <td>1.000000</td>\n",
       "      <td>-0.732849</td>\n",
       "      <td>0.461341</td>\n",
       "      <td>0.498555</td>\n",
       "      <td>0.227033</td>\n",
       "      <td>-0.273842</td>\n",
       "      <td>0.598593</td>\n",
       "      <td>-0.383682</td>\n",
       "    </tr>\n",
       "    <tr>\n",
       "      <th>dis</th>\n",
       "      <td>-0.445231</td>\n",
       "      <td>0.658599</td>\n",
       "      <td>-0.700176</td>\n",
       "      <td>-0.105790</td>\n",
       "      <td>-0.760469</td>\n",
       "      <td>0.178933</td>\n",
       "      <td>-0.732849</td>\n",
       "      <td>1.000000</td>\n",
       "      <td>-0.497582</td>\n",
       "      <td>-0.521609</td>\n",
       "      <td>-0.200848</td>\n",
       "      <td>0.306439</td>\n",
       "      <td>-0.496710</td>\n",
       "      <td>0.255596</td>\n",
       "    </tr>\n",
       "    <tr>\n",
       "      <th>rad</th>\n",
       "      <td>0.726782</td>\n",
       "      <td>-0.308835</td>\n",
       "      <td>0.612458</td>\n",
       "      <td>-0.019478</td>\n",
       "      <td>0.607816</td>\n",
       "      <td>-0.173588</td>\n",
       "      <td>0.461341</td>\n",
       "      <td>-0.497582</td>\n",
       "      <td>1.000000</td>\n",
       "      <td>0.915888</td>\n",
       "      <td>0.483802</td>\n",
       "      <td>-0.469583</td>\n",
       "      <td>0.493203</td>\n",
       "      <td>-0.412217</td>\n",
       "    </tr>\n",
       "    <tr>\n",
       "      <th>tax</th>\n",
       "      <td>0.681424</td>\n",
       "      <td>-0.286646</td>\n",
       "      <td>0.720276</td>\n",
       "      <td>-0.041022</td>\n",
       "      <td>0.657026</td>\n",
       "      <td>-0.242742</td>\n",
       "      <td>0.498555</td>\n",
       "      <td>-0.521609</td>\n",
       "      <td>0.915888</td>\n",
       "      <td>1.000000</td>\n",
       "      <td>0.461885</td>\n",
       "      <td>-0.463168</td>\n",
       "      <td>0.537547</td>\n",
       "      <td>-0.486716</td>\n",
       "    </tr>\n",
       "    <tr>\n",
       "      <th>ptratio</th>\n",
       "      <td>0.345999</td>\n",
       "      <td>-0.369636</td>\n",
       "      <td>0.352582</td>\n",
       "      <td>-0.120501</td>\n",
       "      <td>0.161315</td>\n",
       "      <td>-0.324077</td>\n",
       "      <td>0.227033</td>\n",
       "      <td>-0.200848</td>\n",
       "      <td>0.483802</td>\n",
       "      <td>0.461885</td>\n",
       "      <td>1.000000</td>\n",
       "      <td>-0.192774</td>\n",
       "      <td>0.347244</td>\n",
       "      <td>-0.502735</td>\n",
       "    </tr>\n",
       "    <tr>\n",
       "      <th>black</th>\n",
       "      <td>-0.469271</td>\n",
       "      <td>0.176030</td>\n",
       "      <td>-0.378702</td>\n",
       "      <td>0.041347</td>\n",
       "      <td>-0.394676</td>\n",
       "      <td>0.125896</td>\n",
       "      <td>-0.273842</td>\n",
       "      <td>0.306439</td>\n",
       "      <td>-0.469583</td>\n",
       "      <td>-0.463168</td>\n",
       "      <td>-0.192774</td>\n",
       "      <td>1.000000</td>\n",
       "      <td>-0.388794</td>\n",
       "      <td>0.358860</td>\n",
       "    </tr>\n",
       "    <tr>\n",
       "      <th>lstat</th>\n",
       "      <td>0.520994</td>\n",
       "      <td>-0.410537</td>\n",
       "      <td>0.605267</td>\n",
       "      <td>-0.039004</td>\n",
       "      <td>0.583993</td>\n",
       "      <td>-0.579183</td>\n",
       "      <td>0.598593</td>\n",
       "      <td>-0.496710</td>\n",
       "      <td>0.493203</td>\n",
       "      <td>0.537547</td>\n",
       "      <td>0.347244</td>\n",
       "      <td>-0.388794</td>\n",
       "      <td>1.000000</td>\n",
       "      <td>-0.739813</td>\n",
       "    </tr>\n",
       "    <tr>\n",
       "      <th>medv</th>\n",
       "      <td>-0.437607</td>\n",
       "      <td>0.353695</td>\n",
       "      <td>-0.496320</td>\n",
       "      <td>0.139545</td>\n",
       "      <td>-0.432426</td>\n",
       "      <td>0.689118</td>\n",
       "      <td>-0.383682</td>\n",
       "      <td>0.255596</td>\n",
       "      <td>-0.412217</td>\n",
       "      <td>-0.486716</td>\n",
       "      <td>-0.502735</td>\n",
       "      <td>0.358860</td>\n",
       "      <td>-0.739813</td>\n",
       "      <td>1.000000</td>\n",
       "    </tr>\n",
       "  </tbody>\n",
       "</table>\n",
       "</div>"
      ],
      "text/plain": [
       "             crim        zn     indus      chas       nox        rm       age  \\\n",
       "crim     1.000000 -0.236264  0.489672 -0.062732  0.488114 -0.242034  0.411706   \n",
       "zn      -0.236264  1.000000 -0.531146 -0.038308 -0.495850  0.302918 -0.545576   \n",
       "indus    0.489672 -0.531146  1.000000  0.062258  0.758994 -0.354757  0.627193   \n",
       "chas    -0.062732 -0.038308  0.062258  1.000000  0.103282  0.090104  0.087316   \n",
       "nox      0.488114 -0.495850  0.758994  0.103282  1.000000 -0.266345  0.726670   \n",
       "rm      -0.242034  0.302918 -0.354757  0.090104 -0.266345  1.000000 -0.210035   \n",
       "age      0.411706 -0.545576  0.627193  0.087316  0.726670 -0.210035  1.000000   \n",
       "dis     -0.445231  0.658599 -0.700176 -0.105790 -0.760469  0.178933 -0.732849   \n",
       "rad      0.726782 -0.308835  0.612458 -0.019478  0.607816 -0.173588  0.461341   \n",
       "tax      0.681424 -0.286646  0.720276 -0.041022  0.657026 -0.242742  0.498555   \n",
       "ptratio  0.345999 -0.369636  0.352582 -0.120501  0.161315 -0.324077  0.227033   \n",
       "black   -0.469271  0.176030 -0.378702  0.041347 -0.394676  0.125896 -0.273842   \n",
       "lstat    0.520994 -0.410537  0.605267 -0.039004  0.583993 -0.579183  0.598593   \n",
       "medv    -0.437607  0.353695 -0.496320  0.139545 -0.432426  0.689118 -0.383682   \n",
       "\n",
       "              dis       rad       tax   ptratio     black     lstat      medv  \n",
       "crim    -0.445231  0.726782  0.681424  0.345999 -0.469271  0.520994 -0.437607  \n",
       "zn       0.658599 -0.308835 -0.286646 -0.369636  0.176030 -0.410537  0.353695  \n",
       "indus   -0.700176  0.612458  0.720276  0.352582 -0.378702  0.605267 -0.496320  \n",
       "chas    -0.105790 -0.019478 -0.041022 -0.120501  0.041347 -0.039004  0.139545  \n",
       "nox     -0.760469  0.607816  0.657026  0.161315 -0.394676  0.583993 -0.432426  \n",
       "rm       0.178933 -0.173588 -0.242742 -0.324077  0.125896 -0.579183  0.689118  \n",
       "age     -0.732849  0.461341  0.498555  0.227033 -0.273842  0.598593 -0.383682  \n",
       "dis      1.000000 -0.497582 -0.521609 -0.200848  0.306439 -0.496710  0.255596  \n",
       "rad     -0.497582  1.000000  0.915888  0.483802 -0.469583  0.493203 -0.412217  \n",
       "tax     -0.521609  0.915888  1.000000  0.461885 -0.463168  0.537547 -0.486716  \n",
       "ptratio -0.200848  0.483802  0.461885  1.000000 -0.192774  0.347244 -0.502735  \n",
       "black    0.306439 -0.469583 -0.463168 -0.192774  1.000000 -0.388794  0.358860  \n",
       "lstat   -0.496710  0.493203  0.537547  0.347244 -0.388794  1.000000 -0.739813  \n",
       "medv     0.255596 -0.412217 -0.486716 -0.502735  0.358860 -0.739813  1.000000  "
      ]
     },
     "metadata": {},
     "output_type": "display_data"
    },
    {
     "data": {
      "image/png": "[encoded data removed]",
      "text/plain": [
       "<Figure size 432x288 with 2 Axes>"
      ]
     },
     "metadata": {
      "needs_background": "light"
     },
     "output_type": "display_data"
    }
   ],
   "source": [
    "display(data.corr())\n",
    "sns.heatmap(data[['indus', 'chas', 'nox', 'age', 'rad', 'ptratio', 'black', 'lstat', 'medv']].corr())\n",
    "plt.show()"
   ]
  },
  {
   "cell_type": "code",
   "execution_count": null,
   "metadata": {},
   "outputs": [],
   "source": [
    "# Your response here\n",
    "'''\n",
    "'indus' (proportion of non-retail business acres per town), 'ptratio' (pupil-teacher ratio by town) and 'lstat' (% lower status\n",
    "of the population) have a high negative correlation with house prices.\n",
    "'nox' (nitric oxides concentration (parts per 10 million)), 'age' (proportion of owner-occupied units built prior to 1940)\n",
    "and 'rad' (index of accessibility to radial highways) have a negative correlation with house prices.\n",
    "'black' (1000(Bk−0.63)2 where Bk is the proportion of blacks by town) on the other side has a positive correlation with\n",
    "house prices.\n",
    "'''"
   ]
  },
  {
   "cell_type": "markdown",
   "metadata": {},
   "source": [
    "### Calculate Statistics\n",
    "Calculate descriptive statistics for housing price. Include the minimum, maximum, mean, median, and standard deviation. "
   ]
  },
  {
   "cell_type": "code",
   "execution_count": 29,
   "metadata": {},
   "outputs": [
    {
     "name": "stdout",
     "output_type": "stream",
     "text": [
      "Minimum:  5.0\n",
      "Maximun:  50.0\n",
      "Mean:  22.41895261845387\n",
      "Median:  21.5\n",
      "Standard deviation:  8.781041504300577\n"
     ]
    }
   ],
   "source": [
    "print('Minimum: ', data['medv'].min())\n",
    "print('Maximun: ', data['medv'].max())\n",
    "print('Mean: ', data['medv'].mean())\n",
    "print('Median: ', data['medv'].median())\n",
    "print('Standard deviation: ', data['medv'].std())"
   ]
  },
  {
   "cell_type": "markdown",
   "metadata": {},
   "source": [
    "----\n",
    "\n",
    "## Developing a Model"
   ]
  },
  {
   "cell_type": "markdown",
   "metadata": {},
   "source": [
    "### Implementation: Define a Performance Metric\n",
    "What is the performance meteric with which you will determine the performance of your model? Create a function that calculates this performance metric, and then returns the score. "
   ]
  },
  {
   "cell_type": "code",
   "execution_count": 30,
   "metadata": {},
   "outputs": [],
   "source": [
    "from sklearn.metrics import r2_score\n",
    "\n",
    "def performance_metric(y_true, y_predict):\n",
    "    \"\"\" Calculates and returns the performance score between \n",
    "        true and predicted values based on the metric chosen. \"\"\"\n",
    "    # Your code here:\n",
    "    score = r2_score(y_true, y_predict)\n",
    "    return score"
   ]
  },
  {
   "cell_type": "markdown",
   "metadata": {},
   "source": [
    "### Implementation: Shuffle and Split Data\n",
    "Split the data into the testing and training datasets. Shuffle the data as well to remove any bias in selecting the training and test. "
   ]
  },
  {
   "cell_type": "code",
   "execution_count": 32,
   "metadata": {},
   "outputs": [],
   "source": [
    "from sklearn.model_selection import train_test_split\n",
    "\n",
    "X = data[['crim', 'zn', 'indus', 'chas', 'nox', 'rm', 'age', 'dis', 'rad', 'tax', 'ptratio', 'black', 'lstat']]\n",
    "y = data['medv']\n",
    "\n",
    "X_train, X_test, y_train, y_test = train_test_split(X, y, shuffle=True)  # shuffle=True is default, therefore it actually wouldn't need to be defined"
   ]
  },
  {
   "cell_type": "markdown",
   "metadata": {},
   "source": [
    "----\n",
    "\n",
    "## Analyzing Model Performance\n",
    "Next, we are going to build a Random Forest Regressor, and test its performance with several different parameter settings."
   ]
  },
  {
   "cell_type": "markdown",
   "metadata": {},
   "source": [
    "### Learning Curves\n",
    "Lets build the different models. Set the max_depth parameter to 2, 4, 6, 8, and 10 respectively. "
   ]
  },
  {
   "cell_type": "code",
   "execution_count": 36,
   "metadata": {},
   "outputs": [],
   "source": [
    "# Five separate RFR here with the given max depths\n",
    "from sklearn.ensemble import RandomForestRegressor\n",
    "\n",
    "model_depth2 = RandomForestRegressor(max_depth=2)\n",
    "model_depth2 = model_depth2.fit(X_train, y_train)\n",
    "y_pred_depth2 = model_depth2.predict(X_test)\n",
    "score_depth2 = performance_metric(y_test, y_pred_depth2)\n",
    "\n",
    "model_depth4 = RandomForestRegressor(max_depth=4)\n",
    "model_depth4 = model_depth4.fit(X_train, y_train)\n",
    "y_pred_depth4 = model_depth4.predict(X_test)\n",
    "score_depth4 = performance_metric(y_test, y_pred_depth4)\n",
    "\n",
    "model_depth6 = RandomForestRegressor(max_depth=6)\n",
    "model_depth6 = model_depth6.fit(X_train, y_train)\n",
    "y_pred_depth6 = model_depth6.predict(X_test)\n",
    "score_depth6 = performance_metric(y_test, y_pred_depth6)\n",
    "\n",
    "model_depth8 = RandomForestRegressor(max_depth=8)\n",
    "model_depth8 = model_depth8.fit(X_train, y_train)\n",
    "y_pred_depth8 = model_depth8.predict(X_test)\n",
    "score_depth8 = performance_metric(y_test, y_pred_depth8)\n",
    "\n",
    "model_depth10 = RandomForestRegressor(max_depth=10)\n",
    "model_depth10 = model_depth10.fit(X_train, y_train)\n",
    "y_pred_depth10 = model_depth10.predict(X_test)\n",
    "score_depth10 = performance_metric(y_test, y_pred_depth10)"
   ]
  },
  {
   "cell_type": "markdown",
   "metadata": {},
   "source": [
    "Now, plot the score for each tree on the training set and on the testing set."
   ]
  },
  {
   "cell_type": "code",
   "execution_count": 43,
   "metadata": {
    "scrolled": false
   },
   "outputs": [
    {
     "data": {
      "image/png": "[encoded data removed]",
      "text/plain": [
       "<Figure size 432x288 with 1 Axes>"
      ]
     },
     "metadata": {
      "needs_background": "light"
     },
     "output_type": "display_data"
    }
   ],
   "source": [
    "# Produce a plot with the score for the testing and training for the different max depths\n",
    "\n",
    "plt.plot([2,4,6,8,10],[score_depth2, score_depth4, score_depth6, score_depth8, score_depth10], marker='o', color='b')\n",
    "plt.show()"
   ]
  },
  {
   "cell_type": "markdown",
   "metadata": {},
   "source": [
    "What do these results tell you about the effect of the depth of the trees on the performance of the model?"
   ]
  },
  {
   "cell_type": "code",
   "execution_count": null,
   "metadata": {},
   "outputs": [],
   "source": [
    "# Your response here\n",
    "'''\n",
    "A depth of 6 is the best option for this model.\n",
    "\n",
    "The difference between a depth of 2 and 4 makes a big difference for the score, between the depth of 4, 6, 8 and 10 the\n",
    "differences aren't as big. However, the score improvement between depth 4 and 6 is good and should be considered.\n",
    "After a depth of 6 the score decreases.\n",
    "'''"
   ]
  },
  {
   "cell_type": "markdown",
   "metadata": {},
   "source": [
    "### Bias-Variance Tradeoff\n",
    "When the model is trained with a maximum depth of 1, does the model suffer from high bias or from high variance? How about when the model is trained with a maximum depth of 10? Check out this article before answering: https://towardsdatascience.com/understanding-the-bias-variance-tradeoff-165e6942b229"
   ]
  },
  {
   "cell_type": "code",
   "execution_count": null,
   "metadata": {},
   "outputs": [],
   "source": [
    "# Your response here\n",
    "'''\n",
    "With a maximum depth of 1 the model suffers from high bias and low variance and would, therefore, be underfitting. In this case\n",
    "the model would be oversimplified.\n",
    "With a maximum depth of 10 the model suffers from high variance and low bias and would be overfitting. In this case the model\n",
    "would be to complex.\n",
    "'''"
   ]
  },
  {
   "cell_type": "markdown",
   "metadata": {},
   "source": [
    "### Best-Guess Optimal Model\n",
    "What is the max_depth parameter that you think would optimize the model? Run your model and explain its performance."
   ]
  },
  {
   "cell_type": "code",
   "execution_count": 48,
   "metadata": {},
   "outputs": [
    {
     "data": {
      "text/plain": [
       "0.8808826409969251"
      ]
     },
     "execution_count": 48,
     "metadata": {},
     "output_type": "execute_result"
    }
   ],
   "source": [
    "model = RandomForestRegressor(max_depth=6)\n",
    "model = model.fit(X_train, y_train)\n",
    "y_pred = model.predict(X_test)\n",
    "performance_metric(y_test, y_pred)"
   ]
  },
  {
   "cell_type": "code",
   "execution_count": null,
   "metadata": {},
   "outputs": [],
   "source": [
    "# Your response here\n",
    "'''\n",
    "Like seen in the previous question the max_depth of 6 reaches a good score, therefore, this would be the optimal max_depth\n",
    "parameter for this model. In this case the model should is supposed to have a good bias-variance balance, so that the model\n",
    "is general enough to be applied to new datasets but also doesn't focus on to much noise in the data and gets to complex to be\n",
    "used for new datasets.\n",
    "'''"
   ]
  },
  {
   "cell_type": "markdown",
   "metadata": {},
   "source": [
    "### Applicability\n",
    "*In a few sentences, discuss whether the constructed model should or should not be used in a real-world setting.*  \n",
    "**Hint:** Some questions to answering:\n",
    "- *How relevant today is data that was collected from 1978?*\n",
    "- *Are the features present in the data sufficient to describe a home?*\n",
    "- *Is the model robust enough to make consistent predictions?*\n",
    "- *Would data collected in an urban city like Boston be applicable in a rural city?*"
   ]
  },
  {
   "cell_type": "code",
   "execution_count": null,
   "metadata": {},
   "outputs": [],
   "source": [
    "# Your response here\n",
    "'''\n",
    "In a real-world setting the model should not be used, as some features in the dataset are outdated and would need to be\n",
    "adapted or replaced. Also to create a reliabe model suitable for a broader usecase more features would need to be added.\n",
    "Moreover, the model is trained on old data and, thus, the predicted data does not reflect current house prices. This would\n",
    "make the model only useful if goal of the model would be to predict a house values for the late 1970's.\n",
    "'''"
   ]
  }
 ],
 "metadata": {
  "anaconda-cloud": {},
  "kernelspec": {
   "display_name": "Python 3 (ipykernel)",
   "language": "python",
   "name": "python3"
  },
  "language_info": {
   "codemirror_mode": {
    "name": "ipython",
    "version": 3
   },
   "file_extension": ".py",
   "mimetype": "text/x-python",
   "name": "python",
   "nbconvert_exporter": "python",
   "pygments_lexer": "ipython3",
   "version": "3.9.7"
  }
 },
 "nbformat": 4,
 "nbformat_minor": 1
}
